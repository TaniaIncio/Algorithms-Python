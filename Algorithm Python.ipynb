{
 "cells": [
  {
   "cell_type": "markdown",
   "metadata": {},
   "source": [
    "# Category of algorithms"
   ]
  },
  {
   "cell_type": "code",
   "execution_count": 136,
   "metadata": {},
   "outputs": [
    {
     "name": "stdout",
     "output_type": "stream",
     "text": [
      "[1, 2, 3, 4, 5, 6]\n",
      "None\n"
     ]
    }
   ],
   "source": [
    "#Sorting of algortihm\n",
    "\n",
    "#Insert Sort\n",
    "#with while\n",
    "\n",
    "def insertSort(numbers):\n",
    "    for i in range(1, len(numbers)):\n",
    "        key  = numbers[i]\n",
    "        j = i - 1\n",
    "        while key < numbers[j] and j > -1:\n",
    "            numbers[j + 1] = numbers[j]\n",
    "            j = j - 1\n",
    "        numbers[j + 1] = key\n",
    "    print(numbers) \n",
    "\n",
    "print(insertSort([5,2,4,6,1,3]))"
   ]
  },
  {
   "cell_type": "code",
   "execution_count": 130,
   "metadata": {},
   "outputs": [
    {
     "name": "stdout",
     "output_type": "stream",
     "text": [
      "[1, 2, 3, 4, 5, 5, 6]\n",
      "None\n"
     ]
    }
   ],
   "source": [
    "#Insert Sort\n",
    "#efficiency c1n2\n",
    "#with for\n",
    "def insertSort(numbers):\n",
    "    for i in range(len(numbers) - 1):\n",
    "        compared = numbers[i + 1]\n",
    "        idx = -1\n",
    "        count = 0\n",
    "        for j in range(i + 1):\n",
    "            if compared < numbers[j] and idx == -1 :\n",
    "                idx = j      \n",
    "            if idx != -1:\n",
    "                numbers[i + 1 - count] = numbers[i - count]\n",
    "                count += 1  \n",
    "        if idx != -1:\n",
    "            numbers[idx] = compared \n",
    "    print(numbers)\n",
    "\n",
    "\n",
    "#print(insertSort([3,2,6,4,5,5,1,9,0, -4]))\n",
    "arr = list(range(1, 20000))\n",
    "arr.sort(reverse = True)\n",
    "print(insertSort([3,2,6,4,5,5,1]))"
   ]
  },
  {
   "cell_type": "code",
   "execution_count": null,
   "metadata": {},
   "outputs": [],
   "source": [
    "#"
   ]
  },
  {
   "cell_type": "code",
   "execution_count": null,
   "metadata": {},
   "outputs": [],
   "source": []
  }
 ],
 "metadata": {
  "kernelspec": {
   "display_name": "Python 3",
   "language": "python",
   "name": "python3"
  },
  "language_info": {
   "codemirror_mode": {
    "name": "ipython",
    "version": 3
   },
   "file_extension": ".py",
   "mimetype": "text/x-python",
   "name": "python",
   "nbconvert_exporter": "python",
   "pygments_lexer": "ipython3",
   "version": "3.7.2"
  }
 },
 "nbformat": 4,
 "nbformat_minor": 2
}
